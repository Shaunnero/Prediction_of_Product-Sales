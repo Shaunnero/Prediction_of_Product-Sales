{
  "nbformat": 4,
  "nbformat_minor": 0,
  "metadata": {
    "colab": {
      "provenance": [],
      "authorship_tag": "ABX9TyMh84OEM8Sm45H1Gq1wp3Gy",
      "include_colab_link": true
    },
    "kernelspec": {
      "name": "python3",
      "display_name": "Python 3"
    },
    "language_info": {
      "name": "python"
    }
  },
  "cells": [
    {
      "cell_type": "markdown",
      "metadata": {
        "id": "view-in-github",
        "colab_type": "text"
      },
      "source": [
        "<a href=\"https://colab.research.google.com/github/Shaunnero/Prediction_of_Product-Sales/blob/main/Prediction%20of%20Product%20Sales.ipynb\" target=\"_parent\"><img src=\"https://colab.research.google.com/assets/colab-badge.svg\" alt=\"Open In Colab\"/></a>"
      ]
    },
    {
      "cell_type": "markdown",
      "source": [
        "# Prediction of Product Sales"
      ],
      "metadata": {
        "id": "9ZrbTOYh-SUJ"
      }
    },
    {
      "cell_type": "markdown",
      "source": [
        "- Author: Shaun van der Merwe"
      ],
      "metadata": {
        "id": "TRBifSrI-ua8"
      }
    },
    {
      "cell_type": "markdown",
      "source": [
        "## Project Overview"
      ],
      "metadata": {
        "id": "9uETzlwd-4JR"
      }
    },
    {
      "cell_type": "markdown",
      "source": [
        "## Load and Inspect Data"
      ],
      "metadata": {
        "id": "zTFrtqQs-9E2"
      }
    },
    {
      "cell_type": "code",
      "source": [],
      "metadata": {
        "id": "HZk2a3oC_j9h"
      },
      "execution_count": null,
      "outputs": []
    },
    {
      "cell_type": "markdown",
      "source": [
        "## Clean Data"
      ],
      "metadata": {
        "id": "4yQgyOky_CM-"
      }
    },
    {
      "cell_type": "code",
      "source": [],
      "metadata": {
        "id": "pSfM-Ngu_kZ8"
      },
      "execution_count": null,
      "outputs": []
    },
    {
      "cell_type": "markdown",
      "source": [
        "## Exploratory Data Analysis"
      ],
      "metadata": {
        "id": "mdmImNzb_JhT"
      }
    },
    {
      "cell_type": "code",
      "source": [],
      "metadata": {
        "id": "qggJrQtt_k87"
      },
      "execution_count": null,
      "outputs": []
    },
    {
      "cell_type": "markdown",
      "source": [
        "## Explanatory Data Analysis"
      ],
      "metadata": {
        "id": "HRs7Cn6i_WVH"
      }
    },
    {
      "cell_type": "code",
      "source": [],
      "metadata": {
        "id": "Yk5UJhDc_lmS"
      },
      "execution_count": null,
      "outputs": []
    }
  ]
}